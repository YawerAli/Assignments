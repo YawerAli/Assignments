{
 "cells": [
  {
   "cell_type": "markdown",
   "metadata": {},
   "source": [
    "<h3>Q no 1:  Write a python program to find number of occurrences of given number in a list with out using built-in methods</h3>\n",
    "<h4>**1 generate a list of some random num which is repeated again and again</h4>\n",
    "<h4>**2 take user input any number</h4>\n",
    "<h4>**3 find the number of occurrences of that num in your list</h4>\n",
    "<h4>**4 print some message to user with that result</h4>"
   ]
  },
  {
   "cell_type": "code",
   "execution_count": 25,
   "metadata": {},
   "outputs": [
    {
     "name": "stdout",
     "output_type": "stream",
     "text": [
      "Enter a whole number : 1\n"
     ]
    }
   ],
   "source": [
    "Random = [1,2,4,1,2,1,1]\n",
    "value = int(input(\"Enter a whole number : \"))\n",
    "occurence = 0"
   ]
  },
  {
   "cell_type": "code",
   "execution_count": 26,
   "metadata": {},
   "outputs": [
    {
     "name": "stdout",
     "output_type": "stream",
     "text": [
      "Occurence :  4\n"
     ]
    }
   ],
   "source": [
    "for i in Random :\n",
    "    if(value == i):\n",
    "        occurence+= 1\n",
    "print(\"Occurence : \",  occurence)"
   ]
  },
  {
   "cell_type": "markdown",
   "metadata": {},
   "source": [
    "<h3>Q no 2:   [\"www.zframez.com\", \"www.wikipedia.org\", \"www.asp.net\", \"www.abcd.in\"]\n",
    "<br/><br/><br/><br/><br/>\n",
    "Write a python program to print website suffixes (com , org , net ,in) from this list\n",
    "\n",
    "Hint : Use split() method to perform this task\n",
    "</h3>\n"
   ]
  },
  {
   "cell_type": "code",
   "execution_count": 4,
   "metadata": {},
   "outputs": [],
   "source": [
    "list = [\"www.zframez.com\", \"www.wikipedia.org\", \"www.asp.net\", \"www.abcd.in\"] "
   ]
  },
  {
   "cell_type": "code",
   "execution_count": 27,
   "metadata": {},
   "outputs": [
    {
     "name": "stdout",
     "output_type": "stream",
     "text": [
      "com\n",
      "org\n",
      "net\n",
      "in\n"
     ]
    }
   ],
   "source": [
    "for name in list:\n",
    "    suffix = name.split(\".\")\n",
    "    print(suffix[-1])"
   ]
  },
  {
   "cell_type": "markdown",
   "metadata": {},
   "source": [
    "<h3> Q no 3 : Write a program which can compute the factorial of a given numbers.</h3>\n",
    "<br/>\n",
    "<br/>\n",
    "<h4>**1 first take user input any number</h4>\n",
    "<h4>**2 calculate factorial of that input and then print the result to user</h4>"
   ]
  },
  {
   "cell_type": "code",
   "execution_count": 28,
   "metadata": {},
   "outputs": [
    {
     "name": "stdout",
     "output_type": "stream",
     "text": [
      "Enter the value: 5\n"
     ]
    }
   ],
   "source": [
    "value = int(input(\"Enter the value: \"))\n",
    "loop_value = value - 1"
   ]
  },
  {
   "cell_type": "code",
   "execution_count": 29,
   "metadata": {},
   "outputs": [],
   "source": [
    "if(value == 0):\n",
    "    newvalue = 1\n",
    "\n",
    "elif(value < 0):\n",
    "    newvalue = print(\"Enter a positive value\")\n",
    "    \n",
    "\n",
    "else:\n",
    "    for i in range(loop_value, 0 , -1):\n",
    "        newvalue = value * i\n",
    "        value = newvalue\n"
   ]
  },
  {
   "cell_type": "code",
   "execution_count": 30,
   "metadata": {},
   "outputs": [
    {
     "name": "stdout",
     "output_type": "stream",
     "text": [
      "120\n"
     ]
    }
   ],
   "source": [
    "print(newvalue)"
   ]
  },
  {
   "cell_type": "markdown",
   "metadata": {},
   "source": [
    "<h3>Q 4 (a) :  If you could invite anyone, living or deceased, to dinner, who\n",
    "would you invite? Make a list that includes at least three people you’d like to\n",
    "invite to dinner. Then use your list to print a message to each person, inviting\n",
    "them to dinner.</h3>"
   ]
  },
  {
   "cell_type": "code",
   "execution_count": 31,
   "metadata": {},
   "outputs": [
    {
     "name": "stdout",
     "output_type": "stream",
     "text": [
      "Guest # 1\n",
      "Enter the name of the guest : Yawer\n",
      "Guest # 2\n",
      "Enter the name of the guest : Asad\n",
      "Guest # 3\n",
      "Enter the name of the guest : Taimoor\n"
     ]
    }
   ],
   "source": [
    "Invitees = []\n",
    "for i in range(3):\n",
    "    print(\"Guest #\" , i + 1)\n",
    "    \n",
    "    Invitees.append(input(\"Enter the name of the guest : \"))\n"
   ]
  },
  {
   "cell_type": "code",
   "execution_count": 32,
   "metadata": {},
   "outputs": [
    {
     "name": "stdout",
     "output_type": "stream",
     "text": [
      "Hello Yawer You have been invited for the dinner\n",
      "Hello Asad You have been invited for the dinner\n",
      "Hello Taimoor You have been invited for the dinner\n"
     ]
    }
   ],
   "source": [
    "for i in Invitees:\n",
    "    print(\"Hello\" , i, \"You have been invited for the dinner\")"
   ]
  },
  {
   "cell_type": "code",
   "execution_count": 33,
   "metadata": {},
   "outputs": [
    {
     "name": "stdout",
     "output_type": "stream",
     "text": [
      "Enter the name of who couldn't come : Yawer\n",
      "Yawer Couldn't come to the dinner\n"
     ]
    }
   ],
   "source": [
    "not_coming = input(\"Enter the name of who couldn't come : \")\n",
    "print(not_coming , \"Couldn't come to the dinner\")"
   ]
  },
  {
   "cell_type": "markdown",
   "metadata": {},
   "source": [
    "<h3>Q 4 (b) : You just heard that one of your guests can’t make the\n",
    "dinner, so you need to send out a new set of invitations. You’ll have to think of\n",
    "someone else to invite.<br/></br><br/>\n",
    "•\t Start with your program from Q 4 (a). Add a print statement at the\n",
    "end of your program stating the name of the guest who can’t make it.<br/></br><br/>\n",
    "•\t Modify your list, replacing the name of the guest who can’t make it with\n",
    "the name of the new person you are inviting.<br/></br><br/>\n",
    "•\t Print a second set of invitation messages, one for each person who is still\n",
    "in your list.<br/></br><br/></h3>"
   ]
  },
  {
   "cell_type": "code",
   "execution_count": 34,
   "metadata": {},
   "outputs": [
    {
     "name": "stdout",
     "output_type": "stream",
     "text": [
      "new guest : Moiz\n"
     ]
    }
   ],
   "source": [
    "    for i in range(0,len(Invitees)):\n",
    "        \n",
    "        \n",
    "        if(Invitees[i] == not_coming):\n",
    "            \n",
    "            Invitees[i] = input(\"new guest : \")\n",
    "\n",
    "    \n",
    "    "
   ]
  },
  {
   "cell_type": "code",
   "execution_count": 35,
   "metadata": {},
   "outputs": [
    {
     "name": "stdout",
     "output_type": "stream",
     "text": [
      "Hello Moiz You have been invited to the dinner\n",
      "Hello Asad You have been invited to the dinner\n",
      "Hello Taimoor You have been invited to the dinner\n"
     ]
    }
   ],
   "source": [
    "for i in Invitees:\n",
    "    print(\"Hello\", i ,\"You have been invited to the dinner\")"
   ]
  },
  {
   "cell_type": "code",
   "execution_count": 36,
   "metadata": {},
   "outputs": [
    {
     "name": "stdout",
     "output_type": "stream",
     "text": [
      "Just found a bigger dinner table\n"
     ]
    }
   ],
   "source": [
    "print(\"Just found a bigger dinner table\")"
   ]
  },
  {
   "cell_type": "markdown",
   "metadata": {},
   "source": [
    "<h3>Q 4 (c) : You just found a bigger dinner table, so now more space is\n",
    "available. Think of three more guests to invite to dinner.<br/></br><br/>\n",
    "•\t Start with your program from Q 4 (a) and (b) Add a print\n",
    "statement to the end of your program informing people that you found a\n",
    "bigger dinner table.<br/></br><br/>\n",
    "•\t Use insert() to add one new guest to the beginning of your list.<br/></br><br/>\n",
    "•\t Use insert() to add one new guest to the middle of your list.<br/></br><br/>\n",
    "•\t Use append() to add one new guest to the end of your list.<br/></br><br/>\n",
    "•\t Print a new set of invitation messages, one for each person in your list.<br/></br><br/></h3>"
   ]
  },
  {
   "cell_type": "code",
   "execution_count": 37,
   "metadata": {},
   "outputs": [
    {
     "name": "stdout",
     "output_type": "stream",
     "text": [
      "guest to add in the beggining :Hassan\n"
     ]
    }
   ],
   "source": [
    "guest = input(\"guest to add in the beggining :\")\n",
    "if guest :\n",
    "    Invitees.insert(0,guest)\n"
   ]
  },
  {
   "cell_type": "code",
   "execution_count": 38,
   "metadata": {},
   "outputs": [
    {
     "name": "stdout",
     "output_type": "stream",
     "text": [
      "guest to add in the middle :Faisal\n"
     ]
    }
   ],
   "source": [
    "guest = input(\"guest to add in the middle :\")\n",
    "if guest :\n",
    "    Invitees.insert(2,guest)\n"
   ]
  },
  {
   "cell_type": "code",
   "execution_count": 39,
   "metadata": {},
   "outputs": [
    {
     "name": "stdout",
     "output_type": "stream",
     "text": [
      "guest to add in the end :Haris\n"
     ]
    }
   ],
   "source": [
    "guest = input(\"guest to add in the end :\")\n",
    "if guest :\n",
    "    Invitees.append(guest)\n"
   ]
  },
  {
   "cell_type": "code",
   "execution_count": 40,
   "metadata": {},
   "outputs": [
    {
     "name": "stdout",
     "output_type": "stream",
     "text": [
      "['Hassan', 'Moiz', 'Faisal', 'Asad', 'Taimoor', 'Haris']\n"
     ]
    }
   ],
   "source": [
    "print(Invitees)"
   ]
  },
  {
   "cell_type": "code",
   "execution_count": 41,
   "metadata": {},
   "outputs": [
    {
     "name": "stdout",
     "output_type": "stream",
     "text": [
      "Hi Hassan You have been invited for the dinner\n",
      "Hi Moiz You have been invited for the dinner\n",
      "Hi Faisal You have been invited for the dinner\n",
      "Hi Asad You have been invited for the dinner\n",
      "Hi Taimoor You have been invited for the dinner\n",
      "Hi Haris You have been invited for the dinner\n"
     ]
    }
   ],
   "source": [
    "for i in Invitees:\n",
    "    print('Hi', i , \"You have been invited for the dinner\")"
   ]
  },
  {
   "cell_type": "markdown",
   "metadata": {},
   "source": [
    "<h5> Q 5 : Here you have some data in variable below, your task is to make a list of specific word Surah then print the list and length of list</h5>\n"
   ]
  },
  {
   "cell_type": "code",
   "execution_count": 42,
   "metadata": {},
   "outputs": [],
   "source": [
    "data = \"Sura I Who believe in the Unseen, Sura Are steadfast in prayer, And spend Sura out of what We Have provided for them;\"\n",
    "data = data.split(\" \")\n",
    "newlist = []\n",
    "\n",
    "for i in data:\n",
    "    if(i == \"Sura\"):\n",
    "        newlist.append(\"Sura\")\n",
    "        \n",
    "\n",
    "\n"
   ]
  },
  {
   "cell_type": "code",
   "execution_count": 43,
   "metadata": {},
   "outputs": [
    {
     "name": "stdout",
     "output_type": "stream",
     "text": [
      "['Sura', 'Sura', 'Sura']\n",
      "No of time Sura appears in the data :  3\n"
     ]
    }
   ],
   "source": [
    "print(newlist)\n",
    "print(\"No of time Sura appears in the data : \" , len(newlist))"
   ]
  },
  {
   "cell_type": "markdown",
   "metadata": {},
   "source": [
    " <h3>Q no 6 : You have some name of cities in list named cities, Your task is to check whether Karachi is present in this list or not, if present print the index where the value Karachi is present</h3>"
   ]
  },
  {
   "cell_type": "code",
   "execution_count": 44,
   "metadata": {},
   "outputs": [],
   "source": [
    "index = 'Not present'\n",
    "cities = ['Lahore','Islamabad','Hyderabad','Karachi','Faisalabad','Multan']"
   ]
  },
  {
   "cell_type": "code",
   "execution_count": 45,
   "metadata": {},
   "outputs": [],
   "source": [
    "for i in range(0,len(cities)):\n",
    "    if(cities[i] == 'Karachi'):\n",
    "        index = i\n",
    "        \n",
    "        "
   ]
  },
  {
   "cell_type": "code",
   "execution_count": 46,
   "metadata": {},
   "outputs": [
    {
     "name": "stdout",
     "output_type": "stream",
     "text": [
      "3\n"
     ]
    }
   ],
   "source": [
    "print(index)"
   ]
  }
 ],
 "metadata": {
  "kernelspec": {
   "display_name": "Python 3",
   "language": "python",
   "name": "python3"
  },
  "language_info": {
   "codemirror_mode": {
    "name": "ipython",
    "version": 3
   },
   "file_extension": ".py",
   "mimetype": "text/x-python",
   "name": "python",
   "nbconvert_exporter": "python",
   "pygments_lexer": "ipython3",
   "version": "3.7.3"
  }
 },
 "nbformat": 4,
 "nbformat_minor": 2
}
